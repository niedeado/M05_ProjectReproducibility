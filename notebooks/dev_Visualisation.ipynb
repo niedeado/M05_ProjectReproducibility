{
 "cells": [
  {
   "cell_type": "code",
   "execution_count": 14,
   "id": "9bb8c67d",
   "metadata": {},
   "outputs": [
    {
     "name": "stdout",
     "output_type": "stream",
     "text": [
      "/home/aniederberger/anaconda3/bin/python\n",
      "3.8.11 (default, Aug  3 2021, 15:09:35) \n",
      "[GCC 7.5.0]\n",
      "sys.version_info(major=3, minor=8, micro=11, releaselevel='final', serial=0)\n",
      "\n",
      "     active environment : base\n",
      "    active env location : /home/aniederberger/anaconda3\n",
      "            shell level : 1\n",
      "       user config file : /home/aniederberger/.condarc\n",
      " populated config files : /home/aniederberger/.condarc\n",
      "          conda version : 4.10.3\n",
      "    conda-build version : 3.21.4\n",
      "         python version : 3.8.11.final.0\n",
      "       virtual packages : __linux=5.4.0=0\n",
      "                          __glibc=2.27=0\n",
      "                          __unix=0=0\n",
      "                          __archspec=1=x86_64\n",
      "       base environment : /home/aniederberger/anaconda3  (writable)\n",
      "      conda av data dir : /home/aniederberger/anaconda3/etc/conda\n",
      "  conda av metadata url : None\n",
      "           channel URLs : https://repo.anaconda.com/pkgs/main/linux-64\n",
      "                          https://repo.anaconda.com/pkgs/main/noarch\n",
      "                          https://repo.anaconda.com/pkgs/r/linux-64\n",
      "                          https://repo.anaconda.com/pkgs/r/noarch\n",
      "                          https://conda.anaconda.org/conda-forge/linux-64\n",
      "                          https://conda.anaconda.org/conda-forge/noarch\n",
      "          package cache : /home/aniederberger/anaconda3/pkgs\n",
      "                          /home/aniederberger/.conda/pkgs\n",
      "       envs directories : /home/aniederberger/anaconda3/envs\n",
      "                          /home/aniederberger/.conda/envs\n",
      "               platform : linux-64\n",
      "             user-agent : conda/4.10.3 requests/2.25.1 CPython/3.8.11 Linux/5.4.0-81-generic ubuntu/18.04.6 glibc/2.27\n",
      "                UID:GID : 1002:1002\n",
      "             netrc file : None\n",
      "           offline mode : False\n",
      "\n"
     ]
    }
   ],
   "source": [
    "import ipywidgets as widgets\n",
    "from ipywidgets import interact, interactive, fixed, interact_manual, Layout\n",
    "import pandas as pd\n",
    "import numpy as np\n",
    "import matplotlib.pyplot as plt\n",
    "from sklearn.preprocessing import StandardScaler\n",
    "from sklearn import decomposition\n",
    "import seaborn as sns\n",
    "import ipywidgets as widgets\n",
    "from ipywidgets import interact, interactive, fixed, interact_manual, Layout\n",
    "\n",
    "\n",
    "import sys\n",
    "sys.path.append('../pyfiles')\n",
    "from database import *\n",
    "\n",
    "\n",
    "sys.executable\n",
    "print(sys.executable)\n",
    "print(sys.version)\n",
    "print(sys.version_info)\n",
    "!conda info"
   ]
  },
  {
   "cell_type": "code",
   "execution_count": 8,
   "id": "c24f2c3c",
   "metadata": {},
   "outputs": [],
   "source": [
    "dataset = load()\n",
    "\n",
    "X, y, labels_inv_map, labels_map = extract_data_array(dataset)\n",
    "\n",
    "X_train, X_test, y_train, y_test = split_data(X,y)"
   ]
  },
  {
   "cell_type": "code",
   "execution_count": 15,
   "id": "bd66a5e3",
   "metadata": {},
   "outputs": [],
   "source": [
    "def run_pca(X_train, y_train,  mean_widget, std_widget, x_widget, labels_map= labels_map, labels_inv_map= labels_inv_map):\n",
    "    \n",
    "    \n",
    "    \n",
    "    ss= StandardScaler(with_mean=mean_widget,with_std=std_widget)\n",
    "    train_data= ss.fit_transform(X_train)\n",
    "    \n",
    "    pca = decomposition.PCA(n_components=4)\n",
    "    pc = pca.fit_transform(train_data)\n",
    "    chosen_labels =np.array([labels_map.get(name) for name in x_widget.value])\n",
    "    ix_true = np.argwhere(np.in1d(y_train, chosen_labels)).flatten()\n",
    "    \n",
    "    pc = pca.transform(X_train[ix_true, ...])\n",
    "    \n",
    "    pc_df = pd.DataFrame(data = pc ,\n",
    "        columns = ['PC1', 'PC2','PC3','PC4'])\n",
    "    pc_df['Species'] = np.array([labels_inv_map.get(label_nr) for label_nr in y_train[ix_true]])\n",
    "    \n",
    "    \n",
    "    sns.lmplot( x=\"PC1\", y=\"PC2\",\n",
    "               data=pc_df,\n",
    "               fit_reg=False,\n",
    "               hue='Species', # color by cluster\n",
    "               legend=True,\n",
    "               scatter_kws={\"s\": 32})\n",
    "    plt.show()\n",
    "    \n",
    "    \n",
    "def load_widgets():\n",
    "    \"\"\"\n",
    "    Load and display the Jupyter widgets    \n",
    "    \"\"\"\n",
    "\n",
    "    species = list(sorted(set(dataset.species)))\n",
    "\n",
    "\n",
    "    # Setting options\n",
    "    x_widget = widgets.SelectMultiple(options = species, value=[\"Magnolia Heptapeta\"], \n",
    "                                      description=\"Species:\", disabled=False,\n",
    "                                      layout=Layout(display=\"flex\", flex_flow='column'))\n",
    "\n",
    "    mean_widget = widgets.Checkbox(value=True, description='Scale by Mean:')\n",
    "    std_widget = widgets.Checkbox(value=True, description='Scale by Std:')\n",
    "\n",
    "    button_widget = widgets.Button(description='Run simulation',\n",
    "                                   disabled=False,\n",
    "                                   button_style='', tooltip='Run simulation')\n",
    "    \n",
    "    def run_all(ev):\n",
    "        display(Javascript('IPython.notebook.execute_cell_range(IPython.notebook.get_selected_index()+1, IPython.notebook.ncells())'))\n",
    "\n",
    "    button_widget.on_click(run_all)\n",
    "\n",
    "\n",
    "    # Display\n",
    "    display(x_widget)\n",
    "    display(mean_widget)\n",
    "    display(std_widget)\n",
    "    #display(button_widget)\n",
    "\n",
    "    return x_widget, mean_widget, std_widget, button_widget \n",
    "\n",
    "\n",
    "def load_widgets():\n",
    "    \"\"\"\n",
    "    Load and display the Jupyter widgets\n",
    "    \"\"\"\n",
    "\n",
    "    species = list(sorted(set(dataset.species)))\n",
    "\n",
    "    # Setting options\n",
    "    x_widget = widgets.SelectMultiple(options=species, value=[\"Magnolia Heptapeta\"],\n",
    "                                      description=\"Species:\", disabled=False,\n",
    "                                      layout=Layout(display=\"flex\", flex_flow='column'))\n",
    "\n",
    "    mean_widget = widgets.Checkbox(value=True, description='Scale by Mean:')\n",
    "    std_widget = widgets.Checkbox(value=True, description='Scale by Std:')\n",
    "\n",
    "    button_widget = widgets.Button(description='Run simulation',\n",
    "                                   disabled=False,\n",
    "                                   button_style='', tooltip='Run simulation')\n",
    "\n",
    "    def run_all(ev):\n",
    "        \"\"\"display(Javascript(\n",
    "            'IPython.notebook.execute_cell_range(IPython.notebook.get_selected_index()+1, IPython.notebook.ncells())'))\"\"\"\n",
    "\n",
    "        display(widgets.VBox(\n",
    "            [\n",
    "                mean_widget,\n",
    "                std_widget,\n",
    "                button_widget\n",
    "            ]\n",
    "        )\n",
    "        )\n",
    "\n",
    "\n",
    "    button_widget.on_click(run_all)\n",
    "\n",
    "    # Display\n",
    "    display(x_widget)\n",
    "    display(mean_widget)\n",
    "    display(std_widget)\n",
    "    # display(button_widget)\n",
    "\n",
    "    return x_widget, mean_widget, std_widget, button_widget"
   ]
  },
  {
   "cell_type": "code",
   "execution_count": 16,
   "id": "4b3c04b2",
   "metadata": {},
   "outputs": [
    {
     "data": {
      "application/vnd.jupyter.widget-view+json": {
       "model_id": "2ec34f8556f5424cb73bdbeded1c4c15",
       "version_major": 2,
       "version_minor": 0
      },
      "text/plain": [
       "SelectMultiple(description='Species:', index=(40,), layout=Layout(display='flex', flex_flow='column'), options…"
      ]
     },
     "metadata": {},
     "output_type": "display_data"
    },
    {
     "data": {
      "application/vnd.jupyter.widget-view+json": {
       "model_id": "77563e9e35fa4af3820c43ed835a00e5",
       "version_major": 2,
       "version_minor": 0
      },
      "text/plain": [
       "Checkbox(value=True, description='Scale by Mean:')"
      ]
     },
     "metadata": {},
     "output_type": "display_data"
    },
    {
     "data": {
      "application/vnd.jupyter.widget-view+json": {
       "model_id": "4cd5e25fd11349bc996c71cf640c5f02",
       "version_major": 2,
       "version_minor": 0
      },
      "text/plain": [
       "Checkbox(value=True, description='Scale by Std:')"
      ]
     },
     "metadata": {},
     "output_type": "display_data"
    }
   ],
   "source": [
    "x_widget, mean_widget, std_widget, button_widget= load_widgets()"
   ]
  },
  {
   "cell_type": "code",
   "execution_count": 18,
   "id": "ce134fbc",
   "metadata": {},
   "outputs": [
    {
     "data": {
      "image/png": "[encoded data removed]",
      "text/plain": [
       "<Figure size 687x500 with 1 Axes>"
      ]
     },
     "metadata": {},
     "output_type": "display_data"
    }
   ],
   "source": [
    "run_pca(X_train, y_train,  mean_widget, std_widget, x_widget)"
   ]
  },
  {
   "cell_type": "code",
   "execution_count": null,
   "id": "2f77bbee",
   "metadata": {},
   "outputs": [],
   "source": []
  }
 ],
 "metadata": {
  "kernelspec": {
   "display_name": "Python 3",
   "language": "python",
   "name": "python3"
  },
  "language_info": {
   "codemirror_mode": {
    "name": "ipython",
    "version": 3
   },
   "file_extension": ".py",
   "mimetype": "text/x-python",
   "name": "python",
   "nbconvert_exporter": "python",
   "pygments_lexer": "ipython3",
   "version": "3.8.11"
  }
 },
 "nbformat": 4,
 "nbformat_minor": 5
}
