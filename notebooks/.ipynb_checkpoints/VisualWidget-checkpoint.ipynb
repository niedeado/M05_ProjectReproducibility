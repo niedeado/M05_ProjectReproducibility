{
 "cells": [
  {
   "cell_type": "code",
   "execution_count": 1,
   "id": "0d7d7f10",
   "metadata": {},
   "outputs": [],
   "source": [
    "import sys\n",
    "from leaf_cc import database as db\n",
    "from leaf_cc import data_visualisation as dv"
   ]
  },
  {
   "cell_type": "code",
   "execution_count": 4,
   "id": "0aee509a",
   "metadata": {},
   "outputs": [],
   "source": [
    "dataset = db.load()\n",
    "X, y, labels_inv_map, labels_map = db.extract_data_array(dataset)\n",
    "\n",
    "X_train, X_test, y_train, y_test = db.split_data(X,y)\n",
    "\n",
    "fig_var = dv.plot_pca_variance(X_train)\n"
   ]
  },
  {
   "cell_type": "code",
   "execution_count": 3,
   "id": "6045e2a0",
   "metadata": {},
   "outputs": [
    {
     "data": {
      "application/vnd.jupyter.widget-view+json": {
       "model_id": "d05cc19d68f14c759a66db03a38de1b7",
       "version_major": 2,
       "version_minor": 0
      },
      "text/plain": [
       "SelectMultiple(description='Species\\n', index=(40,), options=('Acer Campestre', 'Acer Capillipes', 'Acer Circi…"
      ]
     },
     "metadata": {},
     "output_type": "display_data"
    },
    {
     "data": {
      "application/vnd.jupyter.widget-view+json": {
       "model_id": "7d10ac69d70b4cddbffd032eda17ae99",
       "version_major": 2,
       "version_minor": 0
      },
      "text/plain": [
       "Checkbox(value=True, description='Scale by Mean')"
      ]
     },
     "metadata": {},
     "output_type": "display_data"
    },
    {
     "data": {
      "application/vnd.jupyter.widget-view+json": {
       "model_id": "3ebe2627f6324ea3aa89b27470cbe4df",
       "version_major": 2,
       "version_minor": 0
      },
      "text/plain": [
       "Checkbox(value=True, description='Scale by Std')"
      ]
     },
     "metadata": {},
     "output_type": "display_data"
    },
    {
     "data": {
      "application/vnd.jupyter.widget-view+json": {
       "model_id": "b72b373affdb4b299b0f8878aa5b25f0",
       "version_major": 2,
       "version_minor": 0
      },
      "text/plain": [
       "HBox(children=(Button(button_style='primary', description='Update', style=ButtonStyle(), tooltip='Update'),), …"
      ]
     },
     "metadata": {},
     "output_type": "display_data"
    }
   ],
   "source": [
    "x_widget, mean_widget, std_widget, button_widget= dv.load_widgets()"
   ]
  },
  {
   "cell_type": "code",
   "execution_count": 6,
   "id": "7ad188eb",
   "metadata": {},
   "outputs": [],
   "source": [
    "data = dv.run_pca(X_train, y_train, mean_widget, std_widget, x_widget)\n",
    "rfig_pca = dv.plot_pca(data)"
   ]
  },
  {
   "cell_type": "code",
   "execution_count": 6,
   "id": "e995bf2e",
   "metadata": {},
   "outputs": [
    {
     "ename": "AttributeError",
     "evalue": "'NoneType' object has no attribute 'show'",
     "output_type": "error",
     "traceback": [
      "\u001b[0;31m---------------------------------------------------------------------------\u001b[0m",
      "\u001b[0;31mAttributeError\u001b[0m                            Traceback (most recent call last)",
      "\u001b[0;32m<ipython-input-6-8971aacf6819>\u001b[0m in \u001b[0;36m<module>\u001b[0;34m\u001b[0m\n\u001b[0;32m----> 1\u001b[0;31m \u001b[0mfig_var\u001b[0m\u001b[0;34m.\u001b[0m\u001b[0mshow\u001b[0m\u001b[0;34m(\u001b[0m\u001b[0;34m)\u001b[0m\u001b[0;34m\u001b[0m\u001b[0;34m\u001b[0m\u001b[0m\n\u001b[0m",
      "\u001b[0;31mAttributeError\u001b[0m: 'NoneType' object has no attribute 'show'"
     ]
    }
   ],
   "source": [
    "fig_var.show()"
   ]
  },
  {
   "cell_type": "code",
   "execution_count": null,
   "id": "283e0eaf",
   "metadata": {},
   "outputs": [],
   "source": []
  },
  {
   "cell_type": "code",
   "execution_count": null,
   "id": "b0a1a915",
   "metadata": {},
   "outputs": [],
   "source": []
  }
 ],
 "metadata": {
  "kernelspec": {
   "display_name": "Python 3",
   "language": "python",
   "name": "python3"
  },
  "language_info": {
   "codemirror_mode": {
    "name": "ipython",
    "version": 3
   },
   "file_extension": ".py",
   "mimetype": "text/x-python",
   "name": "python",
   "nbconvert_exporter": "python",
   "pygments_lexer": "ipython3",
   "version": "3.8.11"
  }
 },
 "nbformat": 4,
 "nbformat_minor": 5
}
