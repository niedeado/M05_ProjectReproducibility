{
 "cells": [
  {
   "cell_type": "code",
   "execution_count": 2,
   "id": "0d7d7f10",
   "metadata": {},
   "outputs": [],
   "source": [
    "import sys\n",
    "from leaf_cc import database as db\n",
    "from leaf_cc import data_visualisation as dv\n",
    "import matplotlib.pyplot as plt"
   ]
  },
  {
   "cell_type": "code",
   "execution_count": 3,
   "id": "0aee509a",
   "metadata": {},
   "outputs": [],
   "source": [
    "dataset = db.load()\n",
    "X, y, labels_inv_map, labels_map = db.extract_data_array(dataset)\n",
    "\n",
    "X_train, X_test, y_train, y_test = db.split_data(X,y)\n",
    "\n",
    "fig_var = dv.plot_pca_variance(X_train)\n"
   ]
  },
  {
   "cell_type": "code",
   "execution_count": 4,
   "id": "6045e2a0",
   "metadata": {},
   "outputs": [
    {
     "data": {
      "application/vnd.jupyter.widget-view+json": {
       "model_id": "f083baeabaca4d17acf5472effefe9bc",
       "version_major": 2,
       "version_minor": 0
      },
      "text/plain": [
       "SelectMultiple(description='Species\\n', index=(40,), options=('Acer Campestre', 'Acer Capillipes', 'Acer Circi…"
      ]
     },
     "metadata": {},
     "output_type": "display_data"
    },
    {
     "data": {
      "application/vnd.jupyter.widget-view+json": {
       "model_id": "9c916543dee64196a4b9a75801b5b310",
       "version_major": 2,
       "version_minor": 0
      },
      "text/plain": [
       "Checkbox(value=True, description='Scale by Mean')"
      ]
     },
     "metadata": {},
     "output_type": "display_data"
    },
    {
     "data": {
      "application/vnd.jupyter.widget-view+json": {
       "model_id": "e6cad6b0f6bd454da09dbce5f04a2cf3",
       "version_major": 2,
       "version_minor": 0
      },
      "text/plain": [
       "Checkbox(value=True, description='Scale by Std')"
      ]
     },
     "metadata": {},
     "output_type": "display_data"
    },
    {
     "data": {
      "application/vnd.jupyter.widget-view+json": {
       "model_id": "1b0a553d439d48cfae5e1f4ee6a86d8c",
       "version_major": 2,
       "version_minor": 0
      },
      "text/plain": [
       "HBox(children=(Button(button_style='primary', description='Update', style=ButtonStyle(), tooltip='Update'),), …"
      ]
     },
     "metadata": {},
     "output_type": "display_data"
    }
   ],
   "source": [
    "x_widget, mean_widget, std_widget, button_widget= dv.load_widgets()"
   ]
  },
  {
   "cell_type": "code",
   "execution_count": 5,
   "id": "7ad188eb",
   "metadata": {},
   "outputs": [],
   "source": [
    "data = dv.run_pca(X_train, y_train, mean_widget, std_widget, x_widget)\n",
    "rfig_pca = dv.plot_pca(data)\n",
    "plt.show()"
   ]
  },
  {
   "cell_type": "code",
   "execution_count": 31,
   "id": "e995bf2e",
   "metadata": {},
   "outputs": [
    {
     "name": "stdout",
     "output_type": "stream",
     "text": [
      "Figure(896x504)\n",
      "<class 'matplotlib.figure.Figure'>\n"
     ]
    }
   ],
   "source": [
    "print(fig_var)\n",
    "print(type(fig_var))\n",
    "\n",
    "ax = fig_var.get_axes()\n",
    "plt.show()\n",
    "fig_var.canvas.show()\n",
    "fig_var.figure.canvas.draw()\n",
    "ax = fig_var.gca()\n",
    "ax.plot()\n",
    "plt.show()"
   ]
  },
  {
   "cell_type": "code",
   "execution_count": null,
   "id": "283e0eaf",
   "metadata": {},
   "outputs": [],
   "source": []
  },
  {
   "cell_type": "code",
   "execution_count": null,
   "id": "b0a1a915",
   "metadata": {},
   "outputs": [],
   "source": []
  }
 ],
 "metadata": {
  "kernelspec": {
   "display_name": "Python 3",
   "language": "python",
   "name": "python3"
  },
  "language_info": {
   "codemirror_mode": {
    "name": "ipython",
    "version": 3
   },
   "file_extension": ".py",
   "mimetype": "text/x-python",
   "name": "python",
   "nbconvert_exporter": "python",
   "pygments_lexer": "ipython3",
   "version": "3.8.11"
  }
 },
 "nbformat": 4,
 "nbformat_minor": 5
}
